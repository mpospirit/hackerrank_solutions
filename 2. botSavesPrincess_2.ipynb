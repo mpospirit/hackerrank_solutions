{
 "cells": [
  {
   "cell_type": "code",
   "execution_count": 1,
   "metadata": {},
   "outputs": [
    {
     "data": {
      "text/plain": [
       "'UP'"
      ]
     },
     "execution_count": 1,
     "metadata": {},
     "output_type": "execute_result"
    }
   ],
   "source": [
    "def nextMove(n,r,c,grid):\n",
    "    # removing spaces from the string\n",
    "    grid = [list(x.replace(' ','')) for x in grid]\n",
    "    # converting the string to array\n",
    "    grid = [list(x) for x in grid]\n",
    "\n",
    "    path=[]\n",
    "\n",
    "    m_i = r\n",
    "    m_j = c\n",
    "    # detecting the position of the princess and the bot\n",
    "    for i in range(n):\n",
    "        for j in range(n):\n",
    "            if grid[i][j] == 'p':\n",
    "                p_i = i\n",
    "                p_j = j\n",
    "    \n",
    "    # calculating the direction to move\n",
    "    while m_i != p_i:\n",
    "        if m_i > p_i:\n",
    "            path.append('UP')\n",
    "            m_i -= 1\n",
    "        else:\n",
    "            path.append('DOWN')\n",
    "            m_i += 1\n",
    "    \n",
    "    while m_j != p_j:\n",
    "        if m_j > p_j:\n",
    "            path.append('LEFT')\n",
    "            m_j -= 1\n",
    "        else:\n",
    "            path.append('RIGHT')\n",
    "            m_j += 1\n",
    "\n",
    "    return path[0]\n",
    "\n",
    "m = 5\n",
    "r, c = 2, 3\n",
    "grid = ['-----', 'p--m-', '-----', '-----', '-----']\n",
    "\n",
    "nextMove(m,r,c,grid)"
   ]
  }
 ],
 "metadata": {
  "kernelspec": {
   "display_name": "Python 3.9.7 ('base')",
   "language": "python",
   "name": "python3"
  },
  "language_info": {
   "name": "python",
   "version": "3.9.7"
  },
  "orig_nbformat": 4,
  "vscode": {
   "interpreter": {
    "hash": "ad2bdc8ecc057115af97d19610ffacc2b4e99fae6737bb82f5d7fb13d2f2c186"
   }
  }
 },
 "nbformat": 4,
 "nbformat_minor": 2
}
