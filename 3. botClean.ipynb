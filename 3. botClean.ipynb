{
 "cells": [
  {
   "cell_type": "code",
   "execution_count": 1,
   "metadata": {},
   "outputs": [],
   "source": [
    "# board\n",
    "# ----d\n",
    "# -d--d\n",
    "# --dd-\n",
    "# --d--\n",
    "# ----d"
   ]
  },
  {
   "cell_type": "code",
   "execution_count": 7,
   "metadata": {},
   "outputs": [
    {
     "data": {
      "text/plain": [
       "'DOWN'"
      ]
     },
     "execution_count": 7,
     "metadata": {},
     "output_type": "execute_result"
    }
   ],
   "source": [
    "def next_move(posr, posc, board):\n",
    "    # converting string to an array\n",
    "    board = [list(row) for row in board]\n",
    "\n",
    "    d_i = []\n",
    "    d_j = []\n",
    "    for i in range(len(board)):\n",
    "        for j in range(len(board[0])):\n",
    "            if board[i][j] == 'd':\n",
    "                d_i.append(j)\n",
    "                d_j.append(i)\n",
    "    \n",
    "    # calculating the distance between the bot and the dirt\n",
    "    dist = []\n",
    "    for i in range(len(d_i)):\n",
    "        dist.append(abs(posr - d_j[i]) + abs(posc - d_i[i]))\n",
    "    \n",
    "    # choosing the dirt with the minimum distance\n",
    "    min_dist = min(dist)\n",
    "\n",
    "    # finding the index of the dirt with the minimum distance\n",
    "    min_dist_index = dist.index(min_dist)\n",
    "\n",
    "    # finding the direction to the dirt with the minimum distance\n",
    "    if posr > d_j[min_dist_index]:\n",
    "        print('UP')\n",
    "    elif posr < d_j[min_dist_index]:\n",
    "        print('DOWN')\n",
    "    elif posc > d_i[min_dist_index]:\n",
    "        print('LEFT')\n",
    "    elif posc < d_i[min_dist_index]:\n",
    "        print('RIGHT')\n",
    "    else:\n",
    "        print('CLEAN')\n",
    "\n",
    "posr, posc = 0, 0\n",
    "board = ['----d', '-d--d', '--dd-', '--d--', '----d']\n",
    "next_move(posr, posc, board)"
   ]
  }
 ],
 "metadata": {
  "kernelspec": {
   "display_name": "Python 3.9.7 ('base')",
   "language": "python",
   "name": "python3"
  },
  "language_info": {
   "codemirror_mode": {
    "name": "ipython",
    "version": 3
   },
   "file_extension": ".py",
   "mimetype": "text/x-python",
   "name": "python",
   "nbconvert_exporter": "python",
   "pygments_lexer": "ipython3",
   "version": "3.9.7"
  },
  "orig_nbformat": 4,
  "vscode": {
   "interpreter": {
    "hash": "ad2bdc8ecc057115af97d19610ffacc2b4e99fae6737bb82f5d7fb13d2f2c186"
   }
  }
 },
 "nbformat": 4,
 "nbformat_minor": 2
}
