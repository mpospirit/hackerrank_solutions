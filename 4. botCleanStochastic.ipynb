{
 "cells": [
  {
   "cell_type": "code",
   "execution_count": 1,
   "metadata": {},
   "outputs": [],
   "source": [
    "# board\n",
    "# b---d\n",
    "# -----\n",
    "# -----\n",
    "# -----\n",
    "# -----"
   ]
  },
  {
   "cell_type": "code",
   "execution_count": 6,
   "metadata": {},
   "outputs": [
    {
     "name": "stdout",
     "output_type": "stream",
     "text": [
      "DOWN\n"
     ]
    }
   ],
   "source": [
    "def nextMove(posr, posc, board):\n",
    "    # converting string to an array\n",
    "    board = [list(row) for row in board]\n",
    "\n",
    "    for i in range(len(board)):\n",
    "        for j in range(len(board[0])):\n",
    "            if board[i][j] == 'd':\n",
    "                d_i = i\n",
    "                d_j = j\n",
    "    \n",
    "    path = []\n",
    "\n",
    "    while posc != d_j:\n",
    "        if posc < d_j:\n",
    "            path.append('RIGHT')\n",
    "            posc += 1\n",
    "        else:\n",
    "            path.append('LEFT')\n",
    "            posc -= 1\n",
    "    \n",
    "    while posr != d_i:\n",
    "        if posr < d_i:\n",
    "            path.append('DOWN')\n",
    "            posr += 1\n",
    "        else:\n",
    "            path.append('UP')\n",
    "            posr -= 1\n",
    "    \n",
    "    path.append('CLEAN')\n",
    "\n",
    "    print(path[0])\n",
    "\n",
    "posr, posc = 0, 0\n",
    "board = ['b----', '-----', '-----', '-----', 'd----']\n",
    "\n",
    "nextMove(posr, posc, board)"
   ]
  }
 ],
 "metadata": {
  "kernelspec": {
   "display_name": "Python 3.9.7 ('base')",
   "language": "python",
   "name": "python3"
  },
  "language_info": {
   "codemirror_mode": {
    "name": "ipython",
    "version": 3
   },
   "file_extension": ".py",
   "mimetype": "text/x-python",
   "name": "python",
   "nbconvert_exporter": "python",
   "pygments_lexer": "ipython3",
   "version": "3.9.7"
  },
  "orig_nbformat": 4,
  "vscode": {
   "interpreter": {
    "hash": "ad2bdc8ecc057115af97d19610ffacc2b4e99fae6737bb82f5d7fb13d2f2c186"
   }
  }
 },
 "nbformat": 4,
 "nbformat_minor": 2
}
