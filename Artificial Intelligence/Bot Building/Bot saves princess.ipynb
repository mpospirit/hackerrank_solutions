{
 "cells": [
  {
   "cell_type": "code",
   "execution_count": 4,
   "metadata": {},
   "outputs": [
    {
     "name": "stdout",
     "output_type": "stream",
     "text": [
      "DOWN\n",
      "LEFT\n"
     ]
    }
   ],
   "source": [
    "def displayPathtoPrincess(n,grid):\n",
    "    # removing spaces from the string\n",
    "    grid = [list(x.replace(' ','')) for x in grid]\n",
    "    # converting the string to array\n",
    "    grid = [list(x) for x in grid]\n",
    "    path=[]\n",
    "    # detecting the position of the princess and the bot\n",
    "    for i in range(n):\n",
    "        for j in range(n):\n",
    "            if grid[i][j] == 'm':\n",
    "                m_i = i\n",
    "                m_j = j\n",
    "            if grid[i][j] == 'p':\n",
    "                p_i = i\n",
    "                p_j = j\n",
    "    \n",
    "    # calculating the direction to move\n",
    "    while m_i != p_i:\n",
    "        if m_i > p_i:\n",
    "            path.append('UP')\n",
    "            m_i -= 1\n",
    "        else:\n",
    "            path.append('DOWN')\n",
    "            m_i += 1\n",
    "    \n",
    "    while m_j != p_j:\n",
    "        if m_j > p_j:\n",
    "            path.append('LEFT')\n",
    "            m_j -= 1\n",
    "        else:\n",
    "            path.append('RIGHT')\n",
    "            m_j += 1\n",
    "\n",
    "    for item in path :\n",
    "        print(item)\n",
    "\n",
    "m = 3\n",
    "grid = ['- - -', '- m -', 'p - -']\n",
    "\n",
    "displayPathtoPrincess(m,grid)"
   ]
  }
 ],
 "metadata": {
  "kernelspec": {
   "display_name": "Python 3.9.7 ('base')",
   "language": "python",
   "name": "python3"
  },
  "language_info": {
   "codemirror_mode": {
    "name": "ipython",
    "version": 3
   },
   "file_extension": ".py",
   "mimetype": "text/x-python",
   "name": "python",
   "nbconvert_exporter": "python",
   "pygments_lexer": "ipython3",
   "version": "3.9.7"
  },
  "orig_nbformat": 4,
  "vscode": {
   "interpreter": {
    "hash": "ad2bdc8ecc057115af97d19610ffacc2b4e99fae6737bb82f5d7fb13d2f2c186"
   }
  }
 },
 "nbformat": 4,
 "nbformat_minor": 2
}
