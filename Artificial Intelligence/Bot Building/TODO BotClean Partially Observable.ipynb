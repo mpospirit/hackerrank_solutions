{
 "cells": [
  {
   "cell_type": "code",
   "execution_count": 1,
   "metadata": {},
   "outputs": [],
   "source": [
    "# board\n",
    "# -b-oo\n",
    "# -d-oo\n",
    "# ooooo\n",
    "# ooooo\n",
    "# ooooo"
   ]
  },
  {
   "cell_type": "code",
   "execution_count": 4,
   "metadata": {},
   "outputs": [
    {
     "name": "stdout",
     "output_type": "stream",
     "text": [
      "DOWN\n"
     ]
    }
   ],
   "source": [
    "import random\n",
    "\n",
    "def next_move(posx, posy, board):\n",
    "    # converting string to an array\n",
    "    board = [list(row) for row in board]\n",
    "\n",
    "    set_of_moves = ['UP', 'DOWN', 'LEFT', 'RIGHT']\n",
    "\n",
    "    d_i = []\n",
    "    d_j = []\n",
    "    for i in range(len(board)):\n",
    "        for j in range(len(board[0])):\n",
    "            if board[i][j] == 'd':\n",
    "                d_i.append(j)\n",
    "                d_j.append(i)\n",
    "\n",
    "    o_i = []\n",
    "    o_j = []\n",
    "    for i in range(len(board)):\n",
    "        for j in range(len(board[0])):\n",
    "            if board[i][j] == 'o':\n",
    "                o_i.append(j)\n",
    "                o_j.append(i)\n",
    "    \n",
    "    # calculating the distance between the bot and the dirt\n",
    "    dist_i = []\n",
    "    for i in range(len(d_i)):\n",
    "        dist_i.append(abs(posx - d_j[i]) + abs(posy - d_i[i]))\n",
    "    \n",
    "    # choosing the dirt with the minimum distance\n",
    "    min_dist_i = min(dist_i)\n",
    "\n",
    "    # finding the index of the dirt with the minimum distance\n",
    "    min_dist_index_i = dist_i.index(min_dist_i)\n",
    "\n",
    "    dist_o = []\n",
    "    for i in range(len(o_i)):\n",
    "        dist_o.append(abs(posx - o_j[i]) + abs(posy - o_i[i]))\n",
    "\n",
    "    min_dist_o = min(dist_o)\n",
    "    min_dist_index_o = dist_o.index(min_dist_o)\n",
    "\n",
    "    if any('d' in x for x in board):\n",
    "        if posx > d_j[min_dist_index_i]:\n",
    "            print('UP')\n",
    "        elif posx < d_j[min_dist_index_i]:\n",
    "            print('DOWN')\n",
    "        elif posy > d_i[min_dist_index_i]:\n",
    "            print('LEFT')\n",
    "        elif posy < d_i[min_dist_index_i]:\n",
    "            print('RIGHT')\n",
    "        else:\n",
    "            print('CLEAN')\n",
    "    elif not any('d' in x for x in board):\n",
    "        # make a random move\n",
    "        print(random.choice(set_of_moves))       \n",
    "\n",
    "\n",
    "\n",
    "posx, posy = 0, 0\n",
    "board = ['-b-oo', '-d-oo', 'ooooo', 'ooooo', 'ooooo']\n",
    "next_move(posx, posy, board)"
   ]
  },
  {
   "cell_type": "code",
   "execution_count": 10,
   "metadata": {},
   "outputs": [],
   "source": []
  },
  {
   "cell_type": "code",
   "execution_count": 1,
   "metadata": {},
   "outputs": [
    {
     "data": {
      "text/plain": [
       "['-b-oo', '-d-oo', 'ooooo', 'ooooo', 'ooooo']"
      ]
     },
     "execution_count": 1,
     "metadata": {},
     "output_type": "execute_result"
    }
   ],
   "source": [
    "board = ['-b-oo', '-d-oo', 'ooooo', 'ooooo', 'ooooo']\n",
    "board"
   ]
  },
  {
   "cell_type": "code",
   "execution_count": 2,
   "metadata": {},
   "outputs": [],
   "source": [
    "board = [list(row) for row in board]"
   ]
  },
  {
   "cell_type": "code",
   "execution_count": 4,
   "metadata": {},
   "outputs": [
    {
     "data": {
      "text/plain": [
       "False"
      ]
     },
     "execution_count": 4,
     "metadata": {},
     "output_type": "execute_result"
    }
   ],
   "source": [
    "not any('d' in x for x in board)"
   ]
  },
  {
   "cell_type": "code",
   "execution_count": 5,
   "metadata": {},
   "outputs": [
    {
     "data": {
      "text/plain": [
       "True"
      ]
     },
     "execution_count": 5,
     "metadata": {},
     "output_type": "execute_result"
    }
   ],
   "source": []
  },
  {
   "cell_type": "code",
   "execution_count": null,
   "metadata": {},
   "outputs": [],
   "source": []
  }
 ],
 "metadata": {
  "kernelspec": {
   "display_name": "Python 3.9.7 ('base')",
   "language": "python",
   "name": "python3"
  },
  "language_info": {
   "codemirror_mode": {
    "name": "ipython",
    "version": 3
   },
   "file_extension": ".py",
   "mimetype": "text/x-python",
   "name": "python",
   "nbconvert_exporter": "python",
   "pygments_lexer": "ipython3",
   "version": "3.9.7"
  },
  "orig_nbformat": 4,
  "vscode": {
   "interpreter": {
    "hash": "ad2bdc8ecc057115af97d19610ffacc2b4e99fae6737bb82f5d7fb13d2f2c186"
   }
  }
 },
 "nbformat": 4,
 "nbformat_minor": 2
}
